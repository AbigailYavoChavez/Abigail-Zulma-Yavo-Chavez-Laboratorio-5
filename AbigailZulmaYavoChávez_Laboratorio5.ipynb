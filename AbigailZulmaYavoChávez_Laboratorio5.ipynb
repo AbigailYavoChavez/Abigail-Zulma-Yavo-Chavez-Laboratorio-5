{
  "nbformat": 4,
  "nbformat_minor": 0,
  "metadata": {
    "colab": {
      "provenance": []
    },
    "kernelspec": {
      "name": "python3",
      "display_name": "Python 3"
    },
    "language_info": {
      "name": "python"
    }
  },
  "cells": [
    {
      "cell_type": "markdown",
      "source": [
        "APLICANDO CÓDIGO DE CLASE\n",
        "Se utiliza de codigo guía el cuadernillo de drive denominado (01 redes_neuronales_01.ipynb del enlace de drive provisto)"
      ],
      "metadata": {
        "id": "KXj2SIwxd4CC"
      }
    },
    {
      "cell_type": "markdown",
      "source": [
        "Se importan solo las librerias necesarias para esta sección del ejercicio (sin pytorch)"
      ],
      "metadata": {
        "id": "R6xujuoOfv0P"
      }
    },
    {
      "cell_type": "code",
      "execution_count": 271,
      "metadata": {
        "id": "vhZ5Xne83Yje"
      },
      "outputs": [],
      "source": [
        "import os\n",
        "import numpy as np\n",
        "from matplotlib import pyplot\n",
        "from scipy import optimize\n",
        "%matplotlib inline\n",
        "import pandas as pd"
      ]
    },
    {
      "cell_type": "code",
      "source": [
        "from google.colab import drive\n",
        "drive.mount('/content/drive')"
      ],
      "metadata": {
        "id": "mKvyMkvq3kS1",
        "colab": {
          "base_uri": "https://localhost:8080/"
        },
        "outputId": "40be6b20-9d06-4140-d709-b4b72f9dc72f"
      },
      "execution_count": 272,
      "outputs": [
        {
          "output_type": "stream",
          "name": "stdout",
          "text": [
            "Drive already mounted at /content/drive; to attempt to forcibly remount, call drive.mount(\"/content/drive\", force_remount=True).\n"
          ]
        }
      ]
    },
    {
      "cell_type": "code",
      "source": [
        "import sys\n",
        "sys.path.append('/content/drive/MyDrive')\n",
        "import utils"
      ],
      "metadata": {
        "id": "uBHJKLJ63nA0"
      },
      "execution_count": 273,
      "outputs": []
    },
    {
      "cell_type": "markdown",
      "source": [
        "Importamos los datos a la variable data y la segmentamos en x y y de acuerdo al estudio previo del dataset y visualizamos los datos en forma de imagen"
      ],
      "metadata": {
        "id": "6-22N_1bf4gP"
      }
    },
    {
      "cell_type": "code",
      "source": [
        "data = pd.read_csv(\"/content/drive/MyDrive/mnist_train.csv\")\n",
        "data = np.array(data)\n",
        "x = data[:,1:]\n",
        "y = data[:,0]\n",
        "\n",
        "y[y == 10] = 0\n",
        "\n",
        "m = y.size\n",
        "print (x)\n",
        "print (y)\n",
        "indices = np.random.permutation(m)\n",
        "rand_indices = np.random.choice(m, 25, replace=False)\n",
        "sel = x[rand_indices, :]\n",
        "utils.displayData(sel)"
      ],
      "metadata": {
        "id": "aXZXHTg47K1l",
        "colab": {
          "base_uri": "https://localhost:8080/",
          "height": 946
        },
        "outputId": "869a3ecf-282f-43e6-ad2c-4650905bcce3"
      },
      "execution_count": 274,
      "outputs": [
        {
          "output_type": "stream",
          "name": "stdout",
          "text": [
            "[[0 0 0 ... 0 0 0]\n",
            " [0 0 0 ... 0 0 0]\n",
            " [0 0 0 ... 0 0 0]\n",
            " ...\n",
            " [0 0 0 ... 0 0 0]\n",
            " [0 0 0 ... 0 0 0]\n",
            " [0 0 0 ... 0 0 0]]\n",
            "[5 0 4 ... 5 6 8]\n"
          ]
        },
        {
          "output_type": "display_data",
          "data": {
            "text/plain": [
              "<Figure size 1000x1000 with 25 Axes>"
            ],
            "image/png": "[encoded data removed]"
          },
          "metadata": {}
        }
      ]
    },
    {
      "cell_type": "markdown",
      "source": [
        "Establecemos los parametros de la red neuronal, como el tamaño de la capa de entrada, las capas ocultas y el número de clases"
      ],
      "metadata": {
        "id": "9jFjcaTrgIdw"
      }
    },
    {
      "cell_type": "code",
      "source": [
        "input_layer_size  = 784  # Entradas de x de 784\n",
        "hidden_layer_size = 10   # 10 unidades ocultas\n",
        "num_labels = 10          # 10 etiquetas, del 1 al 10 (se remapea el numero 10 con el valor de 0)\n",
        "\n",
        "weights = {}\n",
        "\n",
        "weights['Theta1'] = np.random.rand(hidden_layer_size, input_layer_size + 1)\n",
        "weights['Theta2'] = np.random.rand(num_labels, hidden_layer_size + 1)\n",
        "\n",
        "Theta1, Theta2 = weights['Theta1'], weights['Theta2']\n",
        "\n",
        "print(Theta1.ravel().shape)\n",
        "print(Theta2.ravel().shape)\n",
        "\n",
        "nn_params = np.concatenate([Theta1.ravel(), Theta2.ravel()])\n",
        "print(nn_params.shape)"
      ],
      "metadata": {
        "id": "a9SCQ33M8g9D",
        "colab": {
          "base_uri": "https://localhost:8080/"
        },
        "outputId": "16e9f0e8-7820-45ef-e8a3-4167d3c9bc3b"
      },
      "execution_count": 275,
      "outputs": [
        {
          "output_type": "stream",
          "name": "stdout",
          "text": [
            "(7850,)\n",
            "(110,)\n",
            "(7960,)\n"
          ]
        }
      ]
    },
    {
      "cell_type": "code",
      "source": [
        "def predict(Theta1, Theta2, x):\n",
        "    if x.ndim == 1:\n",
        "        x = x[None]\n",
        "\n",
        "    m = x.shape[0]\n",
        "    num_labels = Theta2.shape[0]\n",
        "\n",
        "    p = np.zeros(x.shape[0])\n",
        "\n",
        "    x = np.concatenate([np.ones((m, 1)), x], axis=1)\n",
        "\n",
        "    a2 = utils.sigmoid(x.dot(Theta1.T))\n",
        "    a2 = np.concatenate([np.ones((a2.shape[0], 1)), a2], axis=1)\n",
        "\n",
        "    a3 = utils.sigmoid(a2.dot(Theta2.T))\n",
        "    # a2 = np.concatenate([np.ones((a2.shape[0], 1)), a2], axis=1)\n",
        "\n",
        "\n",
        "    # p = np.argmax(sigmoid(a2.dot(Theta2.T)), axis = 1)\n",
        "    p = np.argmax(a3, axis = 1)\n",
        "    return p"
      ],
      "metadata": {
        "id": "c6b9kSn2itO2"
      },
      "execution_count": 276,
      "outputs": []
    },
    {
      "cell_type": "markdown",
      "source": [
        "Corroboramos la efectividad del mismo a través de un promedio entre el valor real y el obtenido por el modelo entrenado"
      ],
      "metadata": {
        "id": "EnZQw93tkx21"
      }
    },
    {
      "cell_type": "code",
      "source": [
        "pred = predict(Theta1, Theta2, x)\n",
        "print(len(pred))\n",
        "print('El error del conjunto de entrenamiento: {:.1f}%'.format(np.mean(pred == y) * 100))"
      ],
      "metadata": {
        "colab": {
          "base_uri": "https://localhost:8080/"
        },
        "id": "vLOlvfXTi6oW",
        "outputId": "e315a3d3-36f2-4e3c-ade6-a262ea536210"
      },
      "execution_count": 277,
      "outputs": [
        {
          "output_type": "stream",
          "name": "stdout",
          "text": [
            "60000\n",
            "El error del conjunto de entrenamiento: 11.2%\n"
          ]
        }
      ]
    },
    {
      "cell_type": "code",
      "source": [
        "indices = np.random.permutation(m)\n",
        "\n",
        "if indices.size > 0:\n",
        "    i, indices = indices[0], indices[1:]\n",
        "    utils.displayData(x[i, :], figsize=(4, 4))\n",
        "    pred = predict(Theta1, Theta2, x[i, :])\n",
        "    print('Predicción de la red neuronal: {}'.format(*pred))\n",
        "else:\n",
        "    print('No hay mas imagenes para mostrary!')"
      ],
      "metadata": {
        "colab": {
          "base_uri": "https://localhost:8080/",
          "height": 362
        },
        "id": "kvtjKID9jazw",
        "outputId": "590e3180-4fd6-4942-9af2-507c93d0ae38"
      },
      "execution_count": 278,
      "outputs": [
        {
          "output_type": "stream",
          "name": "stdout",
          "text": [
            "Predicción de la red neuronal: 1\n"
          ]
        },
        {
          "output_type": "display_data",
          "data": {
            "text/plain": [
              "<Figure size 400x400 with 1 Axes>"
            ],
            "image/png": "[encoded data removed]"
          },
          "metadata": {}
        }
      ]
    },
    {
      "cell_type": "markdown",
      "source": [
        "APLICANDO PYTORCH"
      ],
      "metadata": {
        "id": "x_uY7jBWd_Fx"
      }
    },
    {
      "cell_type": "markdown",
      "source": [
        "Se importan las librerias para esta sección (pytorch)"
      ],
      "metadata": {
        "id": "7k8ZMFaplPoV"
      }
    },
    {
      "cell_type": "code",
      "source": [
        "import torch\n",
        "from torch import optim\n",
        "from torch import nn\n",
        "from torch.utils.data import DataLoader\n",
        "import torchvision\n",
        "import torchvision.transforms as transforms\n",
        "import torch.nn.functional as F\n",
        "import torchvision.datasets as datasets\n",
        "from tqdm import tqdm"
      ],
      "metadata": {
        "id": "CeIy7eyXd1bc"
      },
      "execution_count": 309,
      "outputs": []
    },
    {
      "cell_type": "markdown",
      "source": [
        "Se define la clase de la red neuronal"
      ],
      "metadata": {
        "id": "IjaT_PeqmXSb"
      }
    },
    {
      "cell_type": "code",
      "source": [
        "class RedNeuronalMLS(nn.Module):\n",
        "    def __init__(self, input_size, num_classes):\n",
        "        super(RedNeuronalMLS, self).__init__()\n",
        "        self.fc1 = nn.Linear(input_size, 50)\n",
        "        self.fc2 = nn.Linear(50, num_classes)\n",
        "\n",
        "    def forward(self, x):\n",
        "\n",
        "        x = self.fc1(x)\n",
        "        x = F.sigmoid(x)\n",
        "        # x = F.sigmoid(self.fc1(x))\n",
        "        x = self.fc2(x)\n",
        "        return x"
      ],
      "metadata": {
        "id": "G7eHmBC-eQWx"
      },
      "execution_count": 310,
      "outputs": []
    },
    {
      "cell_type": "markdown",
      "source": [
        "Definimos los parametros para el funcionamiento del modelo, que son las entradas, el número de clases, el coeficiente de aprendizaje, la longitud de los \"batches\" y la cantidad de iteraciones"
      ],
      "metadata": {
        "id": "BhCP__gTliXu"
      }
    },
    {
      "cell_type": "code",
      "source": [
        "device = torch.device(\"cuda\" if torch.cuda.is_available() else \"cpu\")\n",
        "print(device)\n",
        "\n",
        "input_size = 784\n",
        "num_classes = 10\n",
        "learning_rate = 0.001\n",
        "batch_size = 10000\n",
        "num_epochs = 3"
      ],
      "metadata": {
        "colab": {
          "base_uri": "https://localhost:8080/"
        },
        "id": "EJecb4bxeXio",
        "outputId": "eb5526b3-f2cb-48d2-b936-183b5dc5690a"
      },
      "execution_count": 311,
      "outputs": [
        {
          "output_type": "stream",
          "name": "stdout",
          "text": [
            "cpu\n"
          ]
        }
      ]
    },
    {
      "cell_type": "markdown",
      "source": [
        "Importamos el dataset propio en las variables de entrenamiento y prueba previamente organizados en la carpeta a las que hace referencia las líneas de código"
      ],
      "metadata": {
        "id": "XnUEe6PUl9jl"
      }
    },
    {
      "cell_type": "code",
      "source": [
        "train_dataset = datasets.MNIST(root=\"/content/drive/MyDrive\", train=True, transform=transforms.ToTensor(), download=True)\n",
        "test_dataset = datasets.MNIST(root=\"/content/drive/MyDrive\", train=False, transform=transforms.ToTensor(), download=True)\n",
        "print(len(train_dataset))\n",
        "print(len(test_dataset))\n",
        "\n",
        "train_loader = DataLoader(dataset=train_dataset, batch_size=batch_size, shuffle=True)\n",
        "test_loader = DataLoader(dataset=test_dataset, batch_size=batch_size, shuffle=True)"
      ],
      "metadata": {
        "colab": {
          "base_uri": "https://localhost:8080/"
        },
        "id": "_rzCWEXoegmQ",
        "outputId": "0e9c8b33-8576-4755-f667-f58b3991d257"
      },
      "execution_count": 329,
      "outputs": [
        {
          "output_type": "stream",
          "name": "stdout",
          "text": [
            "Downloading http://yann.lecun.com/exdb/mnist/train-images-idx3-ubyte.gz\n",
            "Failed to download (trying next):\n",
            "HTTP Error 403: Forbidden\n",
            "\n",
            "Downloading https://ossci-datasets.s3.amazonaws.com/mnist/train-images-idx3-ubyte.gz\n",
            "Downloading https://ossci-datasets.s3.amazonaws.com/mnist/train-images-idx3-ubyte.gz to /content/drive/MyDrive/MNIST/raw/train-images-idx3-ubyte.gz\n"
          ]
        },
        {
          "output_type": "stream",
          "name": "stderr",
          "text": [
            "100%|██████████| 9912422/9912422 [00:00<00:00, 19197381.37it/s]\n"
          ]
        },
        {
          "output_type": "stream",
          "name": "stdout",
          "text": [
            "Extracting /content/drive/MyDrive/MNIST/raw/train-images-idx3-ubyte.gz to /content/drive/MyDrive/MNIST/raw\n",
            "\n",
            "Downloading http://yann.lecun.com/exdb/mnist/train-labels-idx1-ubyte.gz\n",
            "Failed to download (trying next):\n",
            "HTTP Error 403: Forbidden\n",
            "\n",
            "Downloading https://ossci-datasets.s3.amazonaws.com/mnist/train-labels-idx1-ubyte.gz\n",
            "Downloading https://ossci-datasets.s3.amazonaws.com/mnist/train-labels-idx1-ubyte.gz to /content/drive/MyDrive/MNIST/raw/train-labels-idx1-ubyte.gz\n"
          ]
        },
        {
          "output_type": "stream",
          "name": "stderr",
          "text": [
            "100%|██████████| 28881/28881 [00:00<00:00, 561114.74it/s]\n"
          ]
        },
        {
          "output_type": "stream",
          "name": "stdout",
          "text": [
            "Extracting /content/drive/MyDrive/MNIST/raw/train-labels-idx1-ubyte.gz to /content/drive/MyDrive/MNIST/raw\n",
            "\n",
            "Downloading http://yann.lecun.com/exdb/mnist/t10k-images-idx3-ubyte.gz\n",
            "Failed to download (trying next):\n",
            "HTTP Error 403: Forbidden\n",
            "\n",
            "Downloading https://ossci-datasets.s3.amazonaws.com/mnist/t10k-images-idx3-ubyte.gz\n",
            "Downloading https://ossci-datasets.s3.amazonaws.com/mnist/t10k-images-idx3-ubyte.gz to /content/drive/MyDrive/MNIST/raw/t10k-images-idx3-ubyte.gz\n"
          ]
        },
        {
          "output_type": "stream",
          "name": "stderr",
          "text": [
            "100%|██████████| 1648877/1648877 [00:00<00:00, 5510788.99it/s]\n"
          ]
        },
        {
          "output_type": "stream",
          "name": "stdout",
          "text": [
            "Extracting /content/drive/MyDrive/MNIST/raw/t10k-images-idx3-ubyte.gz to /content/drive/MyDrive/MNIST/raw\n",
            "\n",
            "Downloading http://yann.lecun.com/exdb/mnist/t10k-labels-idx1-ubyte.gz\n",
            "Failed to download (trying next):\n",
            "HTTP Error 403: Forbidden\n",
            "\n",
            "Downloading https://ossci-datasets.s3.amazonaws.com/mnist/t10k-labels-idx1-ubyte.gz\n",
            "Downloading https://ossci-datasets.s3.amazonaws.com/mnist/t10k-labels-idx1-ubyte.gz to /content/drive/MyDrive/MNIST/raw/t10k-labels-idx1-ubyte.gz\n"
          ]
        },
        {
          "output_type": "stream",
          "name": "stderr",
          "text": [
            "100%|██████████| 4542/4542 [00:00<00:00, 8986098.48it/s]\n"
          ]
        },
        {
          "output_type": "stream",
          "name": "stdout",
          "text": [
            "Extracting /content/drive/MyDrive/MNIST/raw/t10k-labels-idx1-ubyte.gz to /content/drive/MyDrive/MNIST/raw\n",
            "\n",
            "60000\n",
            "10000\n"
          ]
        }
      ]
    },
    {
      "cell_type": "code",
      "source": [
        "model = RedNeuronalMLS(input_size=input_size, num_classes=num_classes).to(device)"
      ],
      "metadata": {
        "id": "Yldh6r4des4Q"
      },
      "execution_count": 330,
      "outputs": []
    },
    {
      "cell_type": "code",
      "source": [
        "criterion = nn.CrossEntropyLoss()\n",
        "optimizer = optim.Adam(model.parameters(), lr=learning_rate)"
      ],
      "metadata": {
        "id": "vuQ0TX4UevcO"
      },
      "execution_count": 331,
      "outputs": []
    },
    {
      "cell_type": "code",
      "source": [
        "for epoch in range(num_epochs):\n",
        "    for batch_idx, (data, targets) in enumerate(tqdm(train_loader)):\n",
        "        data = data.to(device=device)\n",
        "        targets = targets.to(device=device)\n",
        "\n",
        "        data = data.reshape(data.shape[0], -1)\n",
        "        print(data.shape)\n",
        "        scores = model(data)\n",
        "        loss = criterion(scores, targets)\n",
        "\n",
        "        optimizer.zero_grad()\n",
        "        loss.backward()\n",
        "\n",
        "        optimizer.step()"
      ],
      "metadata": {
        "colab": {
          "base_uri": "https://localhost:8080/"
        },
        "id": "jJ9VlBPke8Nu",
        "outputId": "2633c4e1-8a47-4ae1-e44f-3dfab4a85325"
      },
      "execution_count": 332,
      "outputs": [
        {
          "output_type": "stream",
          "name": "stderr",
          "text": [
            " 17%|█▋        | 1/6 [00:01<00:06,  1.21s/it]"
          ]
        },
        {
          "output_type": "stream",
          "name": "stdout",
          "text": [
            "torch.Size([10000, 784])\n"
          ]
        },
        {
          "output_type": "stream",
          "name": "stderr",
          "text": [
            "\r 33%|███▎      | 2/6 [00:02<00:04,  1.22s/it]"
          ]
        },
        {
          "output_type": "stream",
          "name": "stdout",
          "text": [
            "torch.Size([10000, 784])\n"
          ]
        },
        {
          "output_type": "stream",
          "name": "stderr",
          "text": [
            "\r 50%|█████     | 3/6 [00:03<00:04,  1.34s/it]"
          ]
        },
        {
          "output_type": "stream",
          "name": "stdout",
          "text": [
            "torch.Size([10000, 784])\n"
          ]
        },
        {
          "output_type": "stream",
          "name": "stderr",
          "text": [
            "\r 67%|██████▋   | 4/6 [00:05<00:02,  1.28s/it]"
          ]
        },
        {
          "output_type": "stream",
          "name": "stdout",
          "text": [
            "torch.Size([10000, 784])\n"
          ]
        },
        {
          "output_type": "stream",
          "name": "stderr",
          "text": [
            "\r 83%|████████▎ | 5/6 [00:06<00:01,  1.30s/it]"
          ]
        },
        {
          "output_type": "stream",
          "name": "stdout",
          "text": [
            "torch.Size([10000, 784])\n"
          ]
        },
        {
          "output_type": "stream",
          "name": "stderr",
          "text": [
            "100%|██████████| 6/6 [00:07<00:00,  1.28s/it]\n"
          ]
        },
        {
          "output_type": "stream",
          "name": "stdout",
          "text": [
            "torch.Size([10000, 784])\n"
          ]
        },
        {
          "output_type": "stream",
          "name": "stderr",
          "text": [
            " 17%|█▋        | 1/6 [00:01<00:05,  1.18s/it]"
          ]
        },
        {
          "output_type": "stream",
          "name": "stdout",
          "text": [
            "torch.Size([10000, 784])\n"
          ]
        },
        {
          "output_type": "stream",
          "name": "stderr",
          "text": [
            "\r 33%|███▎      | 2/6 [00:03<00:06,  1.73s/it]"
          ]
        },
        {
          "output_type": "stream",
          "name": "stdout",
          "text": [
            "torch.Size([10000, 784])\n"
          ]
        },
        {
          "output_type": "stream",
          "name": "stderr",
          "text": [
            "\r 50%|█████     | 3/6 [00:05<00:05,  1.76s/it]"
          ]
        },
        {
          "output_type": "stream",
          "name": "stdout",
          "text": [
            "torch.Size([10000, 784])\n"
          ]
        },
        {
          "output_type": "stream",
          "name": "stderr",
          "text": [
            "\r 67%|██████▋   | 4/6 [00:06<00:03,  1.53s/it]"
          ]
        },
        {
          "output_type": "stream",
          "name": "stdout",
          "text": [
            "torch.Size([10000, 784])\n"
          ]
        },
        {
          "output_type": "stream",
          "name": "stderr",
          "text": [
            "\r 83%|████████▎ | 5/6 [00:07<00:01,  1.43s/it]"
          ]
        },
        {
          "output_type": "stream",
          "name": "stdout",
          "text": [
            "torch.Size([10000, 784])\n"
          ]
        },
        {
          "output_type": "stream",
          "name": "stderr",
          "text": [
            "100%|██████████| 6/6 [00:08<00:00,  1.49s/it]\n"
          ]
        },
        {
          "output_type": "stream",
          "name": "stdout",
          "text": [
            "torch.Size([10000, 784])\n"
          ]
        },
        {
          "output_type": "stream",
          "name": "stderr",
          "text": [
            " 17%|█▋        | 1/6 [00:01<00:06,  1.30s/it]"
          ]
        },
        {
          "output_type": "stream",
          "name": "stdout",
          "text": [
            "torch.Size([10000, 784])\n"
          ]
        },
        {
          "output_type": "stream",
          "name": "stderr",
          "text": [
            "\r 33%|███▎      | 2/6 [00:02<00:04,  1.23s/it]"
          ]
        },
        {
          "output_type": "stream",
          "name": "stdout",
          "text": [
            "torch.Size([10000, 784])\n"
          ]
        },
        {
          "output_type": "stream",
          "name": "stderr",
          "text": [
            "\r 50%|█████     | 3/6 [00:03<00:03,  1.23s/it]"
          ]
        },
        {
          "output_type": "stream",
          "name": "stdout",
          "text": [
            "torch.Size([10000, 784])\n"
          ]
        },
        {
          "output_type": "stream",
          "name": "stderr",
          "text": [
            "\r 67%|██████▋   | 4/6 [00:04<00:02,  1.23s/it]"
          ]
        },
        {
          "output_type": "stream",
          "name": "stdout",
          "text": [
            "torch.Size([10000, 784])\n"
          ]
        },
        {
          "output_type": "stream",
          "name": "stderr",
          "text": [
            "\r 83%|████████▎ | 5/6 [00:06<00:01,  1.37s/it]"
          ]
        },
        {
          "output_type": "stream",
          "name": "stdout",
          "text": [
            "torch.Size([10000, 784])\n"
          ]
        },
        {
          "output_type": "stream",
          "name": "stderr",
          "text": [
            "100%|██████████| 6/6 [00:08<00:00,  1.40s/it]"
          ]
        },
        {
          "output_type": "stream",
          "name": "stdout",
          "text": [
            "torch.Size([10000, 784])\n"
          ]
        },
        {
          "output_type": "stream",
          "name": "stderr",
          "text": [
            "\n"
          ]
        }
      ]
    },
    {
      "cell_type": "markdown",
      "source": [
        "Finalmente, realizamos la prueba del modelo para obtener el porcetnaje de aproximación"
      ],
      "metadata": {
        "id": "T2GVuBn4n4n8"
      }
    },
    {
      "cell_type": "code",
      "source": [
        "def check_accuracy(loader, model):\n",
        "    num_correct = 0\n",
        "    num_samples = 0\n",
        "    model.eval()\n",
        "\n",
        "    predicciones = []\n",
        "    with torch.no_grad():\n",
        "        for x, y in loader:\n",
        "            x = x.to(device=device)\n",
        "            y = y.to(device=device)\n",
        "            x = x.reshape(x.shape[0], -1)\n",
        "\n",
        "            scores = model(x)\n",
        "            _, predictions = scores.max(1)\n",
        "            predicciones.append(predictions)\n",
        "\n",
        "            num_correct += (predictions == y).sum()\n",
        "            num_samples += predictions.size(0)\n",
        "\n",
        "    model.train()\n",
        "    return num_correct/num_samples, predicciones\n",
        "\n",
        "p_train, pred_train  = check_accuracy(train_loader, model)\n",
        "p_test, pred_test  = check_accuracy(test_loader, model)\n",
        "\n",
        "print(f\"Accuracy on training set: {p_train*100:.2f}\")\n",
        "print(f\"Accuracy on test set: {p_test*100:.2f}\")"
      ],
      "metadata": {
        "colab": {
          "base_uri": "https://localhost:8080/"
        },
        "id": "2AwFxQ-lfEjd",
        "outputId": "ef781204-a2ce-4c40-e570-3e5abf86b288"
      },
      "execution_count": 286,
      "outputs": [
        {
          "output_type": "stream",
          "name": "stdout",
          "text": [
            "Accuracy on training set: 54.31\n",
            "Accuracy on test set: 54.95\n"
          ]
        }
      ]
    }
  ]
}